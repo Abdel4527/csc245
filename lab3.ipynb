{
 "cells": [
  {
   "cell_type": "code",
   "execution_count": 3,
   "id": "initial_id",
   "metadata": {
    "collapsed": true,
    "ExecuteTime": {
     "end_time": "2024-03-08T19:48:23.279885700Z",
     "start_time": "2024-03-08T19:48:23.235643800Z"
    }
   },
   "outputs": [
    {
     "name": "stdout",
     "output_type": "stream",
     "text": [
      "Merged data along rows:\n",
      "  student_id              name  marks\n",
      "0         S1  Danniella Fenton    200\n",
      "1         S2      Ryder Storey    210\n",
      "2         S3      Bryce Jensen    190\n",
      "3         S4         Ed Bernal    222\n",
      "4         S5       Kwame Morin    199\n",
      "0         S4  Scarlette Fisher    201\n",
      "1         S5  Carla Williamson    200\n",
      "2         S6       Dante Morse    198\n",
      "3         S7    Kaiser William    219\n",
      "4         S8   Madeeha Preston    201\n"
     ]
    }
   ],
   "source": [
    "import pandas as pd\n",
    "\n",
    "# 1. Join dataframes along rows and assign all data\n",
    "student_data1 = pd.DataFrame({\n",
    "    'student_id': ['S1', 'S2', 'S3', 'S4', 'S5'],\n",
    "    'name': ['Danniella Fenton', 'Ryder Storey', 'Bryce Jensen', 'Ed Bernal', 'Kwame Morin'],\n",
    "    'marks': [200, 210, 190, 222, 199]\n",
    "})\n",
    "\n",
    "student_data2 = pd.DataFrame({\n",
    "    'student_id': ['S4', 'S5', 'S6', 'S7', 'S8'],\n",
    "    'name': ['Scarlette Fisher', 'Carla Williamson', 'Dante Morse', 'Kaiser William', 'Madeeha Preston'],\n",
    "    'marks': [201, 200, 198, 219, 201]\n",
    "})\n",
    "\n",
    "merged_rows = pd.concat([student_data1, student_data2], axis=0)\n",
    "print(\"Merged data along rows:\")\n",
    "print(merged_rows)\n",
    "\n",
    "\n",
    "\n"
   ]
  },
  {
   "cell_type": "code",
   "outputs": [
    {
     "name": "stdout",
     "output_type": "stream",
     "text": [
      "\n",
      "Merged data along columns:\n",
      "  student_id              name  marks student_id              name  marks\n",
      "0         S1  Danniella Fenton    200         S4  Scarlette Fisher    201\n",
      "1         S2      Ryder Storey    210         S5  Carla Williamson    200\n",
      "2         S3      Bryce Jensen    190         S6       Dante Morse    198\n",
      "3         S4         Ed Bernal    222         S7    Kaiser William    219\n",
      "4         S5       Kwame Morin    199         S8   Madeeha Preston    201\n"
     ]
    }
   ],
   "source": [
    "# 2. Join dataframes along columns and assign all data\n",
    "merged_cols = pd.concat([student_data1, student_data2], axis=1)\n",
    "print(\"\\nMerged data along columns:\")\n",
    "print(merged_cols)\n"
   ],
   "metadata": {
    "collapsed": false,
    "ExecuteTime": {
     "end_time": "2024-03-08T19:49:57.489912100Z",
     "start_time": "2024-03-08T19:49:57.460649300Z"
    }
   },
   "id": "7fac5fee1e5bdbb1",
   "execution_count": 6
  },
  {
   "cell_type": "code",
   "outputs": [
    {
     "ename": "AttributeError",
     "evalue": "'DataFrame' object has no attribute 'append'",
     "output_type": "error",
     "traceback": [
      "\u001B[1;31m---------------------------------------------------------------------------\u001B[0m",
      "\u001B[1;31mAttributeError\u001B[0m                            Traceback (most recent call last)",
      "\u001B[1;32m~\\AppData\\Local\\Temp\\ipykernel_10568\\1820631625.py\u001B[0m in \u001B[0;36m?\u001B[1;34m()\u001B[0m\n\u001B[0;32m      1\u001B[0m \u001B[1;31m# 3. Append rows to an existing DataFrame and display combined data\u001B[0m\u001B[1;33m\u001B[0m\u001B[1;33m\u001B[0m\u001B[0m\n\u001B[0;32m      2\u001B[0m \u001B[0mnew_row\u001B[0m \u001B[1;33m=\u001B[0m \u001B[0mpd\u001B[0m\u001B[1;33m.\u001B[0m\u001B[0mSeries\u001B[0m\u001B[1;33m(\u001B[0m\u001B[1;33m[\u001B[0m\u001B[1;34m'S6'\u001B[0m\u001B[1;33m,\u001B[0m \u001B[1;34m'Scarlette Fisher'\u001B[0m\u001B[1;33m,\u001B[0m \u001B[1;36m205\u001B[0m\u001B[1;33m]\u001B[0m\u001B[1;33m,\u001B[0m \u001B[0mindex\u001B[0m\u001B[1;33m=\u001B[0m\u001B[0mstudent_data1\u001B[0m\u001B[1;33m.\u001B[0m\u001B[0mcolumns\u001B[0m\u001B[1;33m)\u001B[0m\u001B[1;33m\u001B[0m\u001B[1;33m\u001B[0m\u001B[0m\n\u001B[1;32m----> 3\u001B[1;33m \u001B[0mstudent_data1\u001B[0m \u001B[1;33m=\u001B[0m \u001B[0mstudent_data1\u001B[0m\u001B[1;33m.\u001B[0m\u001B[0mappend\u001B[0m\u001B[1;33m(\u001B[0m\u001B[0mnew_row\u001B[0m\u001B[1;33m,\u001B[0m \u001B[0mignore_index\u001B[0m\u001B[1;33m=\u001B[0m\u001B[1;32mTrue\u001B[0m\u001B[1;33m)\u001B[0m\u001B[1;33m\u001B[0m\u001B[1;33m\u001B[0m\u001B[0m\n\u001B[0m\u001B[0;32m      4\u001B[0m \u001B[0mprint\u001B[0m\u001B[1;33m(\u001B[0m\u001B[1;34m\"\\nCombined data after appending rows:\"\u001B[0m\u001B[1;33m)\u001B[0m\u001B[1;33m\u001B[0m\u001B[1;33m\u001B[0m\u001B[0m\n\u001B[0;32m      5\u001B[0m \u001B[0mprint\u001B[0m\u001B[1;33m(\u001B[0m\u001B[0mstudent_data1\u001B[0m\u001B[1;33m)\u001B[0m\u001B[1;33m\u001B[0m\u001B[1;33m\u001B[0m\u001B[0m\n",
      "\u001B[1;32m~\\AppData\\Local\\Programs\\Python\\Python311\\Lib\\site-packages\\pandas\\core\\generic.py\u001B[0m in \u001B[0;36m?\u001B[1;34m(self, name)\u001B[0m\n\u001B[0;32m   6292\u001B[0m             \u001B[1;32mand\u001B[0m \u001B[0mname\u001B[0m \u001B[1;32mnot\u001B[0m \u001B[1;32min\u001B[0m \u001B[0mself\u001B[0m\u001B[1;33m.\u001B[0m\u001B[0m_accessors\u001B[0m\u001B[1;33m\u001B[0m\u001B[1;33m\u001B[0m\u001B[0m\n\u001B[0;32m   6293\u001B[0m             \u001B[1;32mand\u001B[0m \u001B[0mself\u001B[0m\u001B[1;33m.\u001B[0m\u001B[0m_info_axis\u001B[0m\u001B[1;33m.\u001B[0m\u001B[0m_can_hold_identifiers_and_holds_name\u001B[0m\u001B[1;33m(\u001B[0m\u001B[0mname\u001B[0m\u001B[1;33m)\u001B[0m\u001B[1;33m\u001B[0m\u001B[1;33m\u001B[0m\u001B[0m\n\u001B[0;32m   6294\u001B[0m         ):\n\u001B[0;32m   6295\u001B[0m             \u001B[1;32mreturn\u001B[0m \u001B[0mself\u001B[0m\u001B[1;33m[\u001B[0m\u001B[0mname\u001B[0m\u001B[1;33m]\u001B[0m\u001B[1;33m\u001B[0m\u001B[1;33m\u001B[0m\u001B[0m\n\u001B[1;32m-> 6296\u001B[1;33m         \u001B[1;32mreturn\u001B[0m \u001B[0mobject\u001B[0m\u001B[1;33m.\u001B[0m\u001B[0m__getattribute__\u001B[0m\u001B[1;33m(\u001B[0m\u001B[0mself\u001B[0m\u001B[1;33m,\u001B[0m \u001B[0mname\u001B[0m\u001B[1;33m)\u001B[0m\u001B[1;33m\u001B[0m\u001B[1;33m\u001B[0m\u001B[0m\n\u001B[0m",
      "\u001B[1;31mAttributeError\u001B[0m: 'DataFrame' object has no attribute 'append'"
     ]
    }
   ],
   "source": [
    "# 3. Append rows to an existing DataFrame and display combined data\n",
    "new_row = pd.Series(['S6', 'Scarlette Fisher', 205], index=student_data1.columns)\n",
    "student_data1 = student_data1.append(new_row, ignore_index=True)\n",
    "print(\"\\nCombined data after appending rows:\")\n",
    "print(student_data1)"
   ],
   "metadata": {
    "collapsed": false,
    "ExecuteTime": {
     "end_time": "2024-03-08T19:51:54.023675600Z",
     "start_time": "2024-03-08T19:51:53.996368Z"
    }
   },
   "id": "bbd0c96a671f59b5",
   "execution_count": 8
  },
  {
   "cell_type": "code",
   "outputs": [
    {
     "ename": "AttributeError",
     "evalue": "'DataFrame' object has no attribute 'append'",
     "output_type": "error",
     "traceback": [
      "\u001B[1;31m---------------------------------------------------------------------------\u001B[0m",
      "\u001B[1;31mAttributeError\u001B[0m                            Traceback (most recent call last)",
      "\u001B[1;32m~\\AppData\\Local\\Temp\\ipykernel_10568\\3428419729.py\u001B[0m in \u001B[0;36m?\u001B[1;34m()\u001B[0m\n\u001B[0;32m      1\u001B[0m \u001B[1;31m# 4. Append a list of dictionaries or series to an existing DataFrame and display combined data\u001B[0m\u001B[1;33m\u001B[0m\u001B[1;33m\u001B[0m\u001B[0m\n\u001B[0;32m      2\u001B[0m \u001B[0mdata_to_append\u001B[0m \u001B[1;33m=\u001B[0m \u001B[1;33m[\u001B[0m\u001B[1;33m{\u001B[0m\u001B[1;34m'student_id'\u001B[0m\u001B[1;33m:\u001B[0m \u001B[1;34m'S6'\u001B[0m\u001B[1;33m,\u001B[0m \u001B[1;34m'name'\u001B[0m\u001B[1;33m:\u001B[0m \u001B[1;34m'Scarlette Fisher'\u001B[0m\u001B[1;33m,\u001B[0m \u001B[1;34m'marks'\u001B[0m\u001B[1;33m:\u001B[0m \u001B[1;36m205\u001B[0m\u001B[1;33m}\u001B[0m\u001B[1;33m]\u001B[0m\u001B[1;33m\u001B[0m\u001B[1;33m\u001B[0m\u001B[0m\n\u001B[1;32m----> 3\u001B[1;33m \u001B[0mstudent_data1\u001B[0m \u001B[1;33m=\u001B[0m \u001B[0mstudent_data1\u001B[0m\u001B[1;33m.\u001B[0m\u001B[0mappend\u001B[0m\u001B[1;33m(\u001B[0m\u001B[0mdata_to_append\u001B[0m\u001B[1;33m,\u001B[0m \u001B[0mignore_index\u001B[0m\u001B[1;33m=\u001B[0m\u001B[1;32mTrue\u001B[0m\u001B[1;33m)\u001B[0m\u001B[1;33m\u001B[0m\u001B[1;33m\u001B[0m\u001B[0m\n\u001B[0m\u001B[0;32m      4\u001B[0m \u001B[0mprint\u001B[0m\u001B[1;33m(\u001B[0m\u001B[1;34m\"\\nCombined data after appending dictionary:\"\u001B[0m\u001B[1;33m)\u001B[0m\u001B[1;33m\u001B[0m\u001B[1;33m\u001B[0m\u001B[0m\n\u001B[0;32m      5\u001B[0m \u001B[0mprint\u001B[0m\u001B[1;33m(\u001B[0m\u001B[0mstudent_data1\u001B[0m\u001B[1;33m)\u001B[0m\u001B[1;33m\u001B[0m\u001B[1;33m\u001B[0m\u001B[0m\n\u001B[0;32m      6\u001B[0m \u001B[1;33m\u001B[0m\u001B[0m\n",
      "\u001B[1;32m~\\AppData\\Local\\Programs\\Python\\Python311\\Lib\\site-packages\\pandas\\core\\generic.py\u001B[0m in \u001B[0;36m?\u001B[1;34m(self, name)\u001B[0m\n\u001B[0;32m   6292\u001B[0m             \u001B[1;32mand\u001B[0m \u001B[0mname\u001B[0m \u001B[1;32mnot\u001B[0m \u001B[1;32min\u001B[0m \u001B[0mself\u001B[0m\u001B[1;33m.\u001B[0m\u001B[0m_accessors\u001B[0m\u001B[1;33m\u001B[0m\u001B[1;33m\u001B[0m\u001B[0m\n\u001B[0;32m   6293\u001B[0m             \u001B[1;32mand\u001B[0m \u001B[0mself\u001B[0m\u001B[1;33m.\u001B[0m\u001B[0m_info_axis\u001B[0m\u001B[1;33m.\u001B[0m\u001B[0m_can_hold_identifiers_and_holds_name\u001B[0m\u001B[1;33m(\u001B[0m\u001B[0mname\u001B[0m\u001B[1;33m)\u001B[0m\u001B[1;33m\u001B[0m\u001B[1;33m\u001B[0m\u001B[0m\n\u001B[0;32m   6294\u001B[0m         ):\n\u001B[0;32m   6295\u001B[0m             \u001B[1;32mreturn\u001B[0m \u001B[0mself\u001B[0m\u001B[1;33m[\u001B[0m\u001B[0mname\u001B[0m\u001B[1;33m]\u001B[0m\u001B[1;33m\u001B[0m\u001B[1;33m\u001B[0m\u001B[0m\n\u001B[1;32m-> 6296\u001B[1;33m         \u001B[1;32mreturn\u001B[0m \u001B[0mobject\u001B[0m\u001B[1;33m.\u001B[0m\u001B[0m__getattribute__\u001B[0m\u001B[1;33m(\u001B[0m\u001B[0mself\u001B[0m\u001B[1;33m,\u001B[0m \u001B[0mname\u001B[0m\u001B[1;33m)\u001B[0m\u001B[1;33m\u001B[0m\u001B[1;33m\u001B[0m\u001B[0m\n\u001B[0m",
      "\u001B[1;31mAttributeError\u001B[0m: 'DataFrame' object has no attribute 'append'"
     ]
    }
   ],
   "source": [
    "# 4. Append a list of dictionaries or series to an existing DataFrame and display combined data\n",
    "data_to_append = [{'student_id': 'S6', 'name': 'Scarlette Fisher', 'marks': 205}]\n",
    "student_data1 = student_data1.append(data_to_append, ignore_index=True)\n",
    "print(\"\\nCombined data after appending dictionary:\")\n",
    "print(student_data1)\n",
    "\n"
   ],
   "metadata": {
    "collapsed": false,
    "ExecuteTime": {
     "end_time": "2024-03-08T19:52:36.088248Z",
     "start_time": "2024-03-08T19:52:36.047026100Z"
    }
   },
   "id": "651d863fd4110fda",
   "execution_count": 11
  },
  {
   "cell_type": "code",
   "outputs": [
    {
     "name": "stdout",
     "output_type": "stream",
     "text": [
      "\n",
      "Merged data with exam data:\n",
      "  student_id              name  marks  exam_id\n",
      "0         S1  Danniella Fenton    200       23\n",
      "1         S2      Ryder Storey    210       45\n",
      "2         S3      Bryce Jensen    190       12\n",
      "3         S4         Ed Bernal    222       67\n",
      "4         S5       Kwame Morin    199       21\n",
      "5         S4  Scarlette Fisher    201       67\n",
      "6         S5  Carla Williamson    200       21\n",
      "7         S7    Kaiser William    219       55\n",
      "8         S8   Madeeha Preston    201       33\n"
     ]
    }
   ],
   "source": [
    "\n",
    "# 5. Join two dataframes along rows and merge with another dataframe along the common column id\n",
    "exam_data = pd.DataFrame({\n",
    "    'student_id': ['S1', 'S2', 'S3', 'S4', 'S5', 'S7', 'S8', 'S9', 'S10', 'S11', 'S12', 'S13'],\n",
    "    'exam_id': [23, 45, 12, 67, 21, 55, 33, 14, 56, 83, 88, 12]\n",
    "})\n",
    "\n",
    "merged_data = pd.concat([student_data1, student_data2])\n",
    "merged_data = pd.merge(merged_data, exam_data, on='student_id')\n",
    "print(\"\\nMerged data with exam data:\")\n",
    "print(merged_data)\n"
   ],
   "metadata": {
    "collapsed": false,
    "ExecuteTime": {
     "end_time": "2024-03-08T19:53:28.689103600Z",
     "start_time": "2024-03-08T19:53:28.664575200Z"
    }
   },
   "id": "2d4bdfbacd762d89",
   "execution_count": 13
  },
  {
   "cell_type": "code",
   "outputs": [
    {
     "name": "stdout",
     "output_type": "stream",
     "text": [
      "\n",
      "Merged data using common column:\n",
      "  student_id       name_x  marks_x            name_y  marks_y\n",
      "0         S4    Ed Bernal      222  Scarlette Fisher      201\n",
      "1         S5  Kwame Morin      199  Carla Williamson      200\n",
      "\n",
      "Merged data with matching records:\n",
      "  student_id            name_x  marks_x            name_y  marks_y\n",
      "0         S1  Danniella Fenton    200.0               NaN      NaN\n",
      "1         S2      Ryder Storey    210.0               NaN      NaN\n",
      "2         S3      Bryce Jensen    190.0               NaN      NaN\n",
      "3         S4         Ed Bernal    222.0  Scarlette Fisher    201.0\n",
      "4         S5       Kwame Morin    199.0  Carla Williamson    200.0\n",
      "5         S6               NaN      NaN       Dante Morse    198.0\n",
      "6         S7               NaN      NaN    Kaiser William    219.0\n",
      "7         S8               NaN      NaN   Madeeha Preston    201.0\n"
     ]
    }
   ],
   "source": [
    "# 6. Join two dataframes using the common column of both dataframes\n",
    "merged_inner = pd.merge(student_data1, student_data2, on='student_id')\n",
    "print(\"\\nMerged data using common column:\")\n",
    "print(merged_inner)\n",
    "\n",
    "# 7. Join two dataframes with matching records from both sides where available\n",
    "merged_outer = pd.merge(student_data1, student_data2, on='student_id', how='outer')\n",
    "print(\"\\nMerged data with matching records:\")\n",
    "print(merged_outer)"
   ],
   "metadata": {
    "collapsed": false,
    "ExecuteTime": {
     "end_time": "2024-03-08T19:53:50.821940Z",
     "start_time": "2024-03-08T19:53:50.798859700Z"
    }
   },
   "id": "7c3fe5c8cb552a29",
   "execution_count": 14
  },
  {
   "cell_type": "code",
   "outputs": [
    {
     "name": "stdout",
     "output_type": "stream",
     "text": [
      "\n",
      "Left join data:\n",
      "  key1 key2   P   Q    R    S\n",
      "0   K0   K0  P0  Q0   R0   S0\n",
      "1   K0   K1  P1  Q1  NaN  NaN\n",
      "2   K1   K0  P2  Q2   R1   S1\n",
      "3   K1   K0  P2  Q2   R2   S2\n",
      "4   K2   K1  P3  Q3  NaN  NaN\n"
     ]
    }
   ],
   "source": [
    "# 8. Left join the two dataframes using keys from left dataframe only\n",
    "data1 = pd.DataFrame({\n",
    "    'key1': ['K0', 'K0', 'K1', 'K2'],\n",
    "    'key2': ['K0', 'K1', 'K0', 'K1'],\n",
    "    'P': ['P0', 'P1', 'P2', 'P3'],\n",
    "    'Q': ['Q0', 'Q1', 'Q2', 'Q3']\n",
    "})\n",
    "\n",
    "data2 = pd.DataFrame({\n",
    "    'key1': ['K0', 'K1', 'K1', 'K2'],\n",
    "    'key2': ['K0', 'K0', 'K0', 'K0'],\n",
    "    'R': ['R0', 'R1', 'R2', 'R3'],\n",
    "    'S': ['S0', 'S1', 'S2', 'S3']\n",
    "})\n",
    "\n",
    "left_join = pd.merge(data1, data2, on=['key1', 'key2'], how='left')\n",
    "print(\"\\nLeft join data:\")\n",
    "print(left_join)"
   ],
   "metadata": {
    "collapsed": false,
    "ExecuteTime": {
     "end_time": "2024-03-08T19:54:24.790866900Z",
     "start_time": "2024-03-08T19:54:24.743218100Z"
    }
   },
   "id": "2234098307761806",
   "execution_count": 15
  },
  {
   "cell_type": "code",
   "outputs": [
    {
     "name": "stdout",
     "output_type": "stream",
     "text": [
      "\n",
      "Right join data:\n",
      "  key1 key2    P    Q   R   S\n",
      "0   K0   K0   P0   Q0  R0  S0\n",
      "1   K1   K0   P2   Q2  R1  S1\n",
      "2   K1   K0   P2   Q2  R2  S2\n",
      "3   K2   K0  NaN  NaN  R3  S3\n",
      "\n",
      "Merge using multiple join keys:\n",
      "  key1 key2   P   Q   R   S\n",
      "0   K0   K0  P0  Q0  R0  S0\n",
      "1   K1   K0  P2  Q2  R1  S1\n",
      "2   K1   K0  P2  Q2  R2  S2\n"
     ]
    }
   ],
   "source": [
    "# 9. Join two dataframes using keys from right dataframe only\n",
    "right_join = pd.merge(data1, data2, on=['key1', 'key2'], how='right')\n",
    "print(\"\\nRight join data:\")\n",
    "print(right_join)\n",
    "\n",
    "# 10. Merge two datasets using multiple join keys\n",
    "multi_key_merge = pd.merge(data1, data2, on=['key1', 'key2'])\n",
    "print(\"\\nMerge using multiple join keys:\")\n",
    "print(multi_key_merge)\n"
   ],
   "metadata": {
    "collapsed": false,
    "ExecuteTime": {
     "end_time": "2024-03-08T19:54:35.051384500Z",
     "start_time": "2024-03-08T19:54:35.031976800Z"
    }
   },
   "id": "c3182eaacf286daf",
   "execution_count": 16
  },
  {
   "cell_type": "code",
   "outputs": [
    {
     "name": "stdout",
     "output_type": "stream",
     "text": [
      "\n",
      "New DataFrame with overridden column names:\n",
      "   X  Y\n",
      "0  1  4\n",
      "1  2  5\n",
      "2  3  6\n"
     ]
    }
   ],
   "source": [
    "# 11. Create a new DataFrame based on existing series, using specified argument and override existing column names\n",
    "series1 = pd.Series([1, 2, 3])\n",
    "series2 = pd.Series([4, 5, 6])\n",
    "new_df = pd.concat([series1, series2], axis=1, keys=['X', 'Y'])\n",
    "print(\"\\nNew DataFrame with overridden column names:\")\n",
    "print(new_df)"
   ],
   "metadata": {
    "collapsed": false,
    "ExecuteTime": {
     "end_time": "2024-03-08T19:54:49.481344Z",
     "start_time": "2024-03-08T19:54:49.461933800Z"
    }
   },
   "id": "29fc63b7d475bc09",
   "execution_count": 17
  },
  {
   "cell_type": "code",
   "outputs": [
    {
     "name": "stdout",
     "output_type": "stream",
     "text": [
      "\n",
      "Combined data where id combination appears more than once:\n",
      "  key1 key2   P   Q   R   S\n",
      "0   K0   K0  P0  Q0  R0  S0\n",
      "1   K1   K0  P2  Q2  R1  S1\n",
      "2   K1   K0  P2  Q2  R2  S2\n"
     ]
    }
   ],
   "source": [
    "# 12. Create a combination from two dataframes where a column id combination appears more than once in both dataframes\n",
    "data1 = pd.DataFrame({\n",
    "    'key1': ['K0', 'K0', 'K1', 'K2'],\n",
    "    'key2': ['K0', 'K1', 'K0', 'K1'],\n",
    "    'P': ['P0', 'P1', 'P2', 'P3'],\n",
    "    'Q': ['Q0', 'Q1', 'Q2', 'Q3']\n",
    "})\n",
    "\n",
    "data2 = pd.DataFrame({\n",
    "    'key1': ['K0', 'K1', 'K1', 'K2'],\n",
    "    'key2': ['K0', 'K0', 'K0', 'K0'],\n",
    "    'R': ['R0', 'R1', 'R2', 'R3'],\n",
    "    'S': ['S0', 'S1', 'S2', 'S3']\n",
    "})\n",
    "\n",
    "merged_combination = pd.merge(data1, data2, on=['key1', 'key2'])\n",
    "print(\"\\nCombined data where id combination appears more than once:\")\n",
    "print(merged_combination)"
   ],
   "metadata": {
    "collapsed": false,
    "ExecuteTime": {
     "end_time": "2024-03-08T19:55:01.820033600Z",
     "start_time": "2024-03-08T19:55:01.778781500Z"
    }
   },
   "id": "2010cfca0e07395",
   "execution_count": 18
  },
  {
   "cell_type": "code",
   "outputs": [
    {
     "name": "stdout",
     "output_type": "stream",
     "text": [
      "\n",
      "Combined DataFrame with potentially differently-indexed DataFrames:\n",
      "      A    B    C    D\n",
      "K0   A0   B0   C0   D0\n",
      "K1   A1   B1  NaN  NaN\n",
      "K2   A2   B2   C2   D2\n",
      "K3  NaN  NaN   C3   D3\n"
     ]
    }
   ],
   "source": [
    "# 13. Combine the columns of two potentially differently-indexed DataFrames into a single result DataFrame\n",
    "data1 = pd.DataFrame({\n",
    "    'A': ['A0', 'A1', 'A2'],\n",
    "    'B': ['B0', 'B1', 'B2']\n",
    "}, index=['K0', 'K1', 'K2'])\n",
    "\n",
    "data2 = pd.DataFrame({\n",
    "    'C': ['C0', 'C2', 'C3'],\n",
    "    'D': ['D0', 'D2', 'D3']\n",
    "}, index=['K0', 'K2', 'K3'])\n",
    "\n",
    "result = pd.concat([data1, data2], axis=1)\n",
    "print(\"\\nCombined DataFrame with potentially differently-indexed DataFrames:\")\n",
    "print(result)"
   ],
   "metadata": {
    "collapsed": false,
    "ExecuteTime": {
     "end_time": "2024-03-08T19:55:13.051863700Z",
     "start_time": "2024-03-08T19:55:13.022449Z"
    }
   },
   "id": "9cd1d56a4e014c72",
   "execution_count": 19
  },
  {
   "cell_type": "code",
   "outputs": [
    {
     "name": "stdout",
     "output_type": "stream",
     "text": [
      "\n",
      "Merged dataframes with different columns:\n",
      "  key1 key2   P   Q   R   S\n",
      "0   K0   K0  P0  Q0  R0  S0\n",
      "1   K1   K0  P2  Q2  R1  S1\n",
      "2   K1   K0  P2  Q2  R2  S2\n"
     ]
    }
   ],
   "source": [
    "# 14. Merge two dataframes with different columns\n",
    "data1 = pd.DataFrame({\n",
    "    'key1': ['K0', 'K0', 'K1', 'K2'],\n",
    "    'key2': ['K0', 'K1', 'K0', 'K1'],\n",
    "    'P': ['P0', 'P1', 'P2', 'P3'],\n",
    "    'Q': ['Q0', 'Q1', 'Q2', 'Q3']\n",
    "})\n",
    "\n",
    "data2 = pd.DataFrame({\n",
    "    'key1': ['K0', 'K1', 'K1', 'K2'],\n",
    "    'key2': ['K0', 'K0', 'K0', 'K0'],\n",
    "    'R': ['R0', 'R1', 'R2', 'R3'],\n",
    "    'S': ['S0', 'S1', 'S2', 'S3']\n",
    "})\n",
    "\n",
    "merged_diff_cols = pd.merge(data1, data2, on=['key1', 'key2'])\n",
    "print(\"\\nMerged dataframes with different columns:\")\n",
    "print(merged_diff_cols)"
   ],
   "metadata": {
    "collapsed": false,
    "ExecuteTime": {
     "end_time": "2024-03-08T19:55:28.741831Z",
     "start_time": "2024-03-08T19:55:28.718117500Z"
    }
   },
   "id": "4fafa17e203a408e",
   "execution_count": 20
  },
  {
   "cell_type": "code",
   "outputs": [
    {
     "name": "stdout",
     "output_type": "stream",
     "text": [
      "\n",
      "Combined DataFrame with filled null values:\n",
      "     A    B\n",
      "0  1.0  3.0\n",
      "1  0.0  4.0\n",
      "2  3.0  5.0\n"
     ]
    }
   ],
   "source": [
    "# 15. Combine two DataFrame objects by filling null values in one DataFrame with non-null values from the other DataFrame\n",
    "df1 = pd.DataFrame({\n",
    "    'A': [None, 0.0, None],\n",
    "    'B': [3, 4, 5]\n",
    "})\n",
    "\n",
    "df2 = pd.DataFrame({\n",
    "    'A': [1, 1, 3],\n",
    "    'B': [3.0, None, 3.0]\n",
    "})\n",
    "\n",
    "combined_filled = df1.combine_first(df2)\n",
    "print(\"\\nCombined DataFrame with filled null values:\")\n",
    "print(combined_filled)"
   ],
   "metadata": {
    "collapsed": false,
    "ExecuteTime": {
     "end_time": "2024-03-08T19:55:39.358013100Z",
     "start_time": "2024-03-08T19:55:39.328611400Z"
    }
   },
   "id": "e021e05bf577c00b",
   "execution_count": 21
  },
  {
   "cell_type": "code",
   "outputs": [],
   "source": [],
   "metadata": {
    "collapsed": false
   },
   "id": "5344d677a132888d"
  }
 ],
 "metadata": {
  "kernelspec": {
   "display_name": "Python 3",
   "language": "python",
   "name": "python3"
  },
  "language_info": {
   "codemirror_mode": {
    "name": "ipython",
    "version": 2
   },
   "file_extension": ".py",
   "mimetype": "text/x-python",
   "name": "python",
   "nbconvert_exporter": "python",
   "pygments_lexer": "ipython2",
   "version": "2.7.6"
  }
 },
 "nbformat": 4,
 "nbformat_minor": 5
}
