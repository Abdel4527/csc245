{
 "cells": [
  {
   "cell_type": "markdown",
   "source": [],
   "metadata": {
    "collapsed": false
   },
   "id": "caba4aa2d382f897"
  },
  {
   "cell_type": "code",
   "execution_count": null,
   "id": "initial_id",
   "metadata": {
    "collapsed": true
   },
   "outputs": [],
   "source": [
    "import numpy \n",
    "import pandas as pd \n",
    "from sklearn.datasets import load_breast_cancer \n",
    " \n",
    "cancer = load_breast_cancer() \n",
    " \n",
    "#print(cancer.DESCR) # Print the data set description \n",
    " \n",
    " \n",
    " \n",
    "\n",
    " \n",
    "print(cancer.keys()) \n",
    " \n",
    "o/p: dict_keys(['data', 'target', 'target_names', 'DESCR', 'feature_names'])\n",
    "\n"
   ]
  },
  {
   "cell_type": "code",
   "outputs": [],
   "source": [
    "def answer_zero(): \n",
    "    \"\"\"number of fearute names in the data \n",
    "     \n",
    "    Returns: \n",
    "    int:count of feature names in the 'cancer' data-set \n",
    "    \"\"\" \n",
    "    return len(cancer['feature_names']) \n",
    "    answer_zero() \n",
    "o/p: 30( depends on data)"
   ],
   "metadata": {
    "collapsed": false
   },
   "id": "6bf9a863fb394574"
  },
  {
   "cell_type": "code",
   "outputs": [],
   "source": [
    "import numpy  \n",
    "import pandas \n",
    "def answer_one(): \n",
    "     \n",
    " data = numpy.c_[cancer.data,cancer.target] \n",
    " columns = numpy.append(cancer.feature_names, [\"target\"]) \n",
    "     \n",
    " return pandas.DataFrame(data, columns=columns) \n",
    " answer_one() "
   ],
   "metadata": {
    "collapsed": false
   },
   "id": "fc872182e882fa8d"
  },
  {
   "cell_type": "code",
   "outputs": [],
   "source": [
    "def answer_two(): \n",
    "    \"\"\"calculates number of malignent and benign \n",
    " \n",
    "    Returns: \n",
    "     pandas.Series: counts of each \n",
    "    \"\"\" \n",
    "    cancerdf = answer_one() \n",
    "    counts = cancerdf.target.value_counts(ascending=True) \n",
    "    counts.index = \"malignant benign\".split() \n",
    "    return counts \n",
    " \n",
    "answer_two()"
   ],
   "metadata": {
    "collapsed": false
   },
   "id": "c9445be31d77b601"
  },
  {
   "cell_type": "code",
   "outputs": [],
   "source": [
    "def answer_three(): \n",
    "    \"\"\"splits the data into data and labels \n",
    " \n",
    "    Returns: \n",
    "     (pandas.DataFrame, pandas.Series): data, labels \n",
    "    \"\"\" \n",
    "    cancerdf = answer_one() \n",
    "    X = cancerdf[cancerdf.columns[:-1]] \n",
    "    y = cancerdf.target \n",
    "    return X, y \n",
    "answer_three()"
   ],
   "metadata": {
    "collapsed": false
   },
   "id": "89db4128796028f1"
  },
  {
   "cell_type": "code",
   "outputs": [],
   "source": [
    "from sklearn.model_selection import train_test_split \n",
    " \n",
    "def answer_four(): \n",
    "    \"\"\"splits data into training and testing sets \n",
    " \n",
    "    Returns: \n",
    "     tuple(pandas.DataFrame): x_train, y_train, x_test, y_test \n",
    "    \"\"\" \n",
    "    X, y = answer_three() \n",
    "    return train_test_split(X, y, train_size=426, test_size=143, random_state=0) \n",
    "answer_four()"
   ],
   "metadata": {
    "collapsed": false
   },
   "id": "6c44bbacd3fb42e1"
  },
  {
   "cell_type": "code",
   "outputs": [],
   "source": [
    "from sklearn.neighbors import KNeighborsClassifier \n",
    " \n",
    "def answer_five(): \n",
    "    \"\"\"Fits a KNN-1 model to the data \n",
    " \n",
    "    Returns: \n",
    "     sklearn.neighbors.KNeighborsClassifier: trained data \n",
    "    \"\"\" \n",
    "    X_train, X_test, y_train, y_test = answer_four() \n",
    "    model = KNeighborsClassifier(n_neighbors=1) \n",
    "    model.fit(X_train, y_train) \n",
    "    return model \n",
    "answer_five()"
   ],
   "metadata": {
    "collapsed": false
   },
   "id": "a0e5375c5dd57bb9"
  },
  {
   "cell_type": "code",
   "outputs": [],
   "source": [
    "def answer_six(): \n",
    "    \"\"\"Predicts the class labels for the means of all features \n",
    " \n",
    "    Returns: \n",
    "     numpy.array: prediction (0 or 1) \n",
    "    \"\"\" \n",
    "    cancerdf = answer_one() \n",
    "    means = cancerdf.mean()[:-1].values.reshape(1, -1) \n",
    "    model = answer_five() \n",
    "    return model.predict(means) \n",
    "answer_six()"
   ],
   "metadata": {
    "collapsed": false
   },
   "id": "1d1dc49b69a5d4e8"
  },
  {
   "cell_type": "code",
   "outputs": [],
   "source": [
    "def answer_seven(): \n",
    "    \"\"\"predicts likelihood of cancer for test set \n",
    " \n",
    "    Returns: \n",
    "     numpy.array: vector of predictions \n",
    "    \"\"\" \n",
    "    X_train, X_test, y_train, y_test = answer_four() \n",
    "    knn = answer_five() \n",
    "    return knn.predict(X_test) \n",
    "answer_seven() "
   ],
   "metadata": {
    "collapsed": false
   },
   "id": "f0a3d7629cb4d016"
  },
  {
   "cell_type": "code",
   "outputs": [],
   "source": [
    "def answer_eight(): \n",
    "    \"\"\"calculates the mean accuracy of the KNN model \n",
    " \n",
    "    Returns: \n",
    "     float: mean accuracy of the model predicting cancer \n",
    "    \"\"\" \n",
    "    X_train, X_test, y_train, y_test = answer_four() \n",
    "    knn = answer_five() \n",
    "    return knn.score(X_test, y_test) \n",
    "answer_eight() "
   ],
   "metadata": {
    "collapsed": false
   },
   "id": "d528cf9ddf0ee15b"
  }
 ],
 "metadata": {
  "kernelspec": {
   "display_name": "Python 3",
   "language": "python",
   "name": "python3"
  },
  "language_info": {
   "codemirror_mode": {
    "name": "ipython",
    "version": 2
   },
   "file_extension": ".py",
   "mimetype": "text/x-python",
   "name": "python",
   "nbconvert_exporter": "python",
   "pygments_lexer": "ipython2",
   "version": "2.7.6"
  }
 },
 "nbformat": 4,
 "nbformat_minor": 5
}
