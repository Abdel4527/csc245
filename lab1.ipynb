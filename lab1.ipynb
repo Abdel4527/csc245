{
 "cells": [
  {
   "cell_type": "code",
   "execution_count": 12,
   "id": "initial_id",
   "metadata": {
    "collapsed": true,
    "ExecuteTime": {
     "end_time": "2024-02-21T00:40:37.919531400Z",
     "start_time": "2024-02-21T00:40:37.882867800Z"
    }
   },
   "outputs": [
    {
     "name": "stdout",
     "output_type": "stream",
     "text": [
      "1. [[0. 0. 0.]\n",
      " [0. 0. 0.]\n",
      " [0. 0. 0.]\n",
      " [0. 0. 0.]]\n",
      "2. [[1. 1. 1. 1.]\n",
      " [1. 1. 1. 1.]\n",
      " [1. 1. 1. 1.]]\n",
      "3. [ 4  5  6  7  8  9 10 11 12 13]\n",
      "4. [0.  1.5 3.  4.5]\n",
      "5. [[4 4]\n",
      " [4 4]]\n",
      "6i. [[1. 0. 0. 0.]\n",
      " [0. 1. 0. 0.]\n",
      " [0. 0. 1. 0.]\n",
      " [0. 0. 0. 1.]]\n",
      "6ii. [[10  0]\n",
      " [ 0 12]]\n",
      "7. [[7.14087183 3.43481233 1.13619012]\n",
      " [3.21057843 5.3221662  0.51712673]\n",
      " [1.21258004 1.09956625 1.25737649]]\n",
      "8. [[11 13 17]\n",
      " [15 12 11]\n",
      " [15 11 19]]\n"
     ]
    }
   ],
   "source": [
    "import numpy as np\n",
    "\n",
    "# 1. Create an array with 4 rows and 3 columns of zeros.\n",
    "zeros_array = np.zeros((4, 3))\n",
    "print(\"1.\", zeros_array)\n",
    "\n",
    "# 2. Create an array of ones that has 3 rows and 4 columns.\n",
    "ones_array = np.ones((3, 4))\n",
    "print(\"2.\", ones_array)\n",
    "\n",
    "# 3. Create an array containing integers 4 to 13 inclusive.\n",
    "int_array = np.arange(4, 14)\n",
    "print(\"3.\", int_array)\n",
    "\n",
    "# 4. Create an array containing [0., 1.5, 3., 4.5].\n",
    "float_array = np.arange(0, 6, 1.5)\n",
    "print(\"4.\", float_array)\n",
    "\n",
    "# 5. Create a 2 by 2 array containing '4' in each position.\n",
    "four_array = np.full((2, 2), 4)\n",
    "print(\"5.\", four_array)\n",
    "\n",
    "# 6i. Identity matrix of size 4\n",
    "identity_matrix = np.eye(4)\n",
    "print(\"6i.\", identity_matrix)\n",
    "\n",
    "# 6ii. Diagonal matrix with [10,12] as the diagonals\n",
    "diagonal_matrix = np.diag([10, 12])\n",
    "print(\"6ii.\", diagonal_matrix)\n",
    "\n",
    "# 7. Create a 3 by 3 array with random floats in [0, 10].\n",
    "random_float_array = np.random.uniform(0, 10, (3, 3))\n",
    "print(\"7.\", random_float_array)\n",
    "\n",
    "# 8. Create a 3 by 3 array with random integers in [10, 20].\n",
    "random_int_array = np.random.randint(10, 21, (3, 3))\n",
    "print(\"8.\", random_int_array)\n",
    "\n",
    "# Define the array for slicing practice\n",
    "\n",
    "# Remove the elements from the middle column of this array:\n",
    "\n",
    "# Extract the first four\n",
    "\n"
   ]
  },
  {
   "cell_type": "code",
   "outputs": [
    {
     "name": "stdout",
     "output_type": "stream",
     "text": [
      "[[1 3]\n",
      " [4 6]\n",
      " [9 7]]\n",
      "Test Exercise 1: [ 0 -1  2 -1  4 -1  6 -1  8 -1]\n",
      "Test Exercise 2:\n",
      " [[0 1 2]\n",
      " [3 4 5]\n",
      " [6 7 8]]\n",
      "Test Exercise 3:\n",
      " [[202 203]\n",
      " [204 205]]\n",
      "Test Exercise 4: [32 32 35 38 39 37 39 37 31 34]\n",
      "Test Exercise 5a: (array([1, 2, 4, 5, 6, 7, 8, 9], dtype=int64),)\n",
      "Test Exercise 5b: (array([0], dtype=int64),)\n"
     ]
    }
   ],
   "source": [
    "myArray = np.matrix([[1, 2, 3], [4, 5, 6], [9, 8, 7]])\n",
    "myArray = np.delete(myArray, 1, axis=1)\n",
    "print(myArray)\n",
    "\n",
    "# Replace all odd numbers in the given array with -1\n",
    "exercise_1 = np.array([0, 1, 2, 3, 4, 5, 6, 7, 8, 9])\n",
    "exercise_1[exercise_1 % 2 != 0] = -1\n",
    "print(\"Test Exercise 1:\", exercise_1)\n",
    "\n",
    "# Convert a 1-D array into a 2-D array with 3 rows\n",
    "exercise_2 = np.array([0, 1, 2, 3, 4, 5, 6, 7, 8])\n",
    "exercise_2 = exercise_2.reshape(3, -1)\n",
    "print(\"Test Exercise 2:\\n\", exercise_2)\n",
    "\n",
    "# Add 202 to all the values in given array\n",
    "exercise_3 = np.arange(4).reshape(2, -1)\n",
    "exercise_3 += 202\n",
    "print(\"Test Exercise 3:\\n\", exercise_3)\n",
    "\n",
    "# Generate a 1-D array of 10 random integers. Each integer should be a number between 30 and 40 (inclusive)\n",
    "random_integers = np.random.randint(30, 41, 10)\n",
    "print(\"Test Exercise 4:\", random_integers)\n",
    "\n",
    "# Find the positions of:\n",
    "# elements in x where its value is more than its corresponding element in y, and\n",
    "# elements in x where its value is equals to its corresponding element in y.\n",
    "x = np.array([21, 64, 86, 22, 74, 55, 81, 79, 90, 89])\n",
    "y = np.array([21, 7, 3, 45, 10, 29, 55, 4, 37, 18])\n",
    "greater_positions = np.where(x > y)\n",
    "equal_positions = np.where(x == y)\n",
    "print(\"Test Exercise 5a:\", greater_positions)\n",
    "print(\"Test Exercise 5b:\", equal_positions)\n"
   ],
   "metadata": {
    "collapsed": false,
    "ExecuteTime": {
     "end_time": "2024-02-21T00:40:37.922541900Z",
     "start_time": "2024-02-21T00:40:37.903153400Z"
    }
   },
   "id": "a0241e5d2effcd99",
   "execution_count": 13
  },
  {
   "cell_type": "code",
   "outputs": [
    {
     "name": "stdout",
     "output_type": "stream",
     "text": [
      "a. [[11 12]]\n",
      "b. [[ 0  0  0]\n",
      " [ 0  0  0]\n",
      " [17 18 19]]\n",
      "Reshaped Array: [[11 12]\n",
      " [13 14]\n",
      " [15 16]]\n",
      "1. Squared Array: [ 0  1  4  9 16 25 36 49 64 81]\n",
      "2. Square Root Array: [0.         1.         1.41421356 1.73205081 2.         2.23606798\n",
      " 2.44948974 2.64575131 2.82842712 3.        ]\n",
      "3. Result Array: [  0.           1.           5.65685425  15.58845727  32.\n",
      "  55.90169944  88.18163074 129.64181424 181.01933598 243.        ]\n",
      "1. [[11 12 13]\n",
      " [14 15 16]\n",
      " [17 18 19]\n",
      " [20 21 22]]\n",
      "1. [[0. 1. 0.]\n",
      " [0. 1. 0.]]\n",
      "2. [[0. 1. 0.]\n",
      " [2. 2. 2.]\n",
      " [0. 1. 0.]]\n",
      "3. [[0. 1.]\n",
      " [2. 2.]\n",
      " [0. 1.]]\n",
      "4. [[0. 1.]\n",
      " [2. 2.]]\n"
     ]
    }
   ],
   "source": [
    "myArray = np.array([[11, 12, 13], [14, 15, 16], [17, 18, 19]])\n",
    "\n",
    "# a. Get a subarray of the first row and first 2 columns.\n",
    "sub_array = myArray[:1, :2]\n",
    "print(\"a.\", sub_array)\n",
    "\n",
    "# b. Change all elements in 1st and second row to 0.\n",
    "myArray[:2] = 0\n",
    "print(\"b.\", myArray)\n",
    "\n",
    "# Use this array for the following practice:\n",
    "myArray = np.array([[11, 12, 13], [14, 15, 16]])\n",
    "\n",
    "# Reshape the array to an array with 3 rows.\n",
    "reshaped_array = myArray.reshape(3, 2)\n",
    "print(\"Reshaped Array:\", reshaped_array)\n",
    "\n",
    "# Use this array for the following practice:\n",
    "myArray = np.arange(10)\n",
    "\n",
    "# 1. Find the square of every number in array\n",
    "squared_array = np.square(myArray)\n",
    "print(\"1. Squared Array:\", squared_array)\n",
    "\n",
    "# 2. Find the square root of every number in array\n",
    "sqrt_array = np.sqrt(myArray)\n",
    "print(\"2. Square Root Array:\", sqrt_array)\n",
    "\n",
    "# 3. Multiply the square of each number in array with its respective square root\n",
    "result_array = squared_array * sqrt_array\n",
    "print(\"3. Result Array:\", result_array)\n",
    "\n",
    "# Use this array for the following practice:\n",
    "myArray = np.array([[11, 12, 13], [14, 15, 16], [17, 18, 19]])\n",
    "\n",
    "# 1. Add a new row of elements containing 20, 21 and 22\n",
    "new_row = np.array([20, 21, 22])\n",
    "myArray = np.vstack([myArray, new_row])\n",
    "print(\"1.\", myArray)\n",
    "\n",
    "# 2. Add a new column of elements containing 30, 40 and 50\n",
    "\n",
    "\n",
    "# 1. Add 1 column of 1 to this array: myArray = np.zeros((2,2))\n",
    "myArray = np.zeros((2, 2))\n",
    "myArray = np.insert(myArray, 1, 1, axis=1)\n",
    "print(\"1.\", myArray)\n",
    "\n",
    "# 2. Add 2 rows of 2 to the answer from part 1\n",
    "myArray = np.insert(myArray, 1, 2, axis=0)\n",
    "print(\"2.\", myArray)\n",
    "\n",
    "# 3. Remove the last column\n",
    "myArray = np.delete(myArray, -1, axis=1)\n",
    "print(\"3.\", myArray)\n",
    "\n",
    "# 4. Remove the last row\n",
    "myArray = np.delete(myArray, -1, axis=0)\n",
    "print(\"4.\", myArray)\n",
    "\n"
   ],
   "metadata": {
    "collapsed": false,
    "ExecuteTime": {
     "end_time": "2024-02-21T00:40:37.924541800Z",
     "start_time": "2024-02-21T00:40:37.915162600Z"
    }
   },
   "id": "5df56740e411299f",
   "execution_count": 14
  },
  {
   "cell_type": "code",
   "outputs": [
    {
     "ename": "ValueError",
     "evalue": "all the input array dimensions except for the concatenation axis must match exactly, but along dimension 0, the array at index 0 has size 2 and the array at index 1 has size 3",
     "output_type": "error",
     "traceback": [
      "\u001B[1;31m---------------------------------------------------------------------------\u001B[0m",
      "\u001B[1;31mValueError\u001B[0m                                Traceback (most recent call last)",
      "Cell \u001B[1;32mIn[15], line 2\u001B[0m\n\u001B[0;32m      1\u001B[0m new_col \u001B[38;5;241m=\u001B[39m np\u001B[38;5;241m.\u001B[39marray([[\u001B[38;5;241m30\u001B[39m], [\u001B[38;5;241m40\u001B[39m], [\u001B[38;5;241m50\u001B[39m]])\n\u001B[1;32m----> 2\u001B[0m myArray \u001B[38;5;241m=\u001B[39m \u001B[43mnp\u001B[49m\u001B[38;5;241;43m.\u001B[39;49m\u001B[43mhstack\u001B[49m\u001B[43m(\u001B[49m\u001B[43m[\u001B[49m\u001B[43mmyArray\u001B[49m\u001B[43m,\u001B[49m\u001B[43m \u001B[49m\u001B[43mnew_col\u001B[49m\u001B[43m]\u001B[49m\u001B[43m)\u001B[49m\n\u001B[0;32m      3\u001B[0m \u001B[38;5;28mprint\u001B[39m(\u001B[38;5;124m\"\u001B[39m\u001B[38;5;124m2.\u001B[39m\u001B[38;5;124m\"\u001B[39m, myArray)\n",
      "File \u001B[1;32m~\\AppData\\Local\\Programs\\Python\\Python311\\Lib\\site-packages\\numpy\\core\\shape_base.py:359\u001B[0m, in \u001B[0;36mhstack\u001B[1;34m(tup, dtype, casting)\u001B[0m\n\u001B[0;32m    357\u001B[0m     \u001B[38;5;28;01mreturn\u001B[39;00m _nx\u001B[38;5;241m.\u001B[39mconcatenate(arrs, \u001B[38;5;241m0\u001B[39m, dtype\u001B[38;5;241m=\u001B[39mdtype, casting\u001B[38;5;241m=\u001B[39mcasting)\n\u001B[0;32m    358\u001B[0m \u001B[38;5;28;01melse\u001B[39;00m:\n\u001B[1;32m--> 359\u001B[0m     \u001B[38;5;28;01mreturn\u001B[39;00m \u001B[43m_nx\u001B[49m\u001B[38;5;241;43m.\u001B[39;49m\u001B[43mconcatenate\u001B[49m\u001B[43m(\u001B[49m\u001B[43marrs\u001B[49m\u001B[43m,\u001B[49m\u001B[43m \u001B[49m\u001B[38;5;241;43m1\u001B[39;49m\u001B[43m,\u001B[49m\u001B[43m \u001B[49m\u001B[43mdtype\u001B[49m\u001B[38;5;241;43m=\u001B[39;49m\u001B[43mdtype\u001B[49m\u001B[43m,\u001B[49m\u001B[43m \u001B[49m\u001B[43mcasting\u001B[49m\u001B[38;5;241;43m=\u001B[39;49m\u001B[43mcasting\u001B[49m\u001B[43m)\u001B[49m\n",
      "\u001B[1;31mValueError\u001B[0m: all the input array dimensions except for the concatenation axis must match exactly, but along dimension 0, the array at index 0 has size 2 and the array at index 1 has size 3"
     ]
    }
   ],
   "source": [
    "new_col = np.array([[30], [40], [50]])\n",
    "myArray = np.hstack([myArray, new_col])\n",
    "print(\"2.\", myArray)"
   ],
   "metadata": {
    "collapsed": false,
    "ExecuteTime": {
     "end_time": "2024-02-21T00:40:37.978055900Z",
     "start_time": "2024-02-21T00:40:37.928540Z"
    }
   },
   "id": "c0f1bfafc599363c",
   "execution_count": 15
  }
 ],
 "metadata": {
  "kernelspec": {
   "display_name": "Python 3",
   "language": "python",
   "name": "python3"
  },
  "language_info": {
   "codemirror_mode": {
    "name": "ipython",
    "version": 2
   },
   "file_extension": ".py",
   "mimetype": "text/x-python",
   "name": "python",
   "nbconvert_exporter": "python",
   "pygments_lexer": "ipython2",
   "version": "2.7.6"
  }
 },
 "nbformat": 4,
 "nbformat_minor": 5
}
